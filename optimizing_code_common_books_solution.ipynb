{
  "nbformat": 4,
  "nbformat_minor": 0,
  "metadata": {
    "kernelspec": {
      "display_name": "Python 3",
      "language": "python",
      "name": "python3"
    },
    "language_info": {
      "codemirror_mode": {
        "name": "ipython",
        "version": 3
      },
      "file_extension": ".py",
      "mimetype": "text/x-python",
      "name": "python",
      "nbconvert_exporter": "python",
      "pygments_lexer": "ipython3",
      "version": "3.6.3"
    },
    "colab": {
      "name": "optimizing_code_common_books_solution.ipynb",
      "provenance": [],
      "include_colab_link": true
    }
  },
  "cells": [
    {
      "cell_type": "markdown",
      "metadata": {
        "id": "view-in-github",
        "colab_type": "text"
      },
      "source": [
        "<a href=\"https://colab.research.google.com/github/vkaushik189/udacity_ml_nanodegree_sol/blob/master/optimizing_code_common_books_solution.ipynb\" target=\"_parent\"><img src=\"https://colab.research.google.com/assets/colab-badge.svg\" alt=\"Open In Colab\"/></a>"
      ]
    },
    {
      "cell_type": "markdown",
      "metadata": {
        "id": "B0z9AXKm27KQ",
        "colab_type": "text"
      },
      "source": [
        "# Optimizing Code: Common Books - Solution\n",
        "Here's the code your coworker wrote to find the common book ids in `books_published_last_two_years.txt` and `all_coding_books.txt` to obtain a list of recent coding books."
      ]
    },
    {
      "cell_type": "code",
      "metadata": {
        "id": "2yro7C6227KS",
        "colab_type": "code",
        "colab": {}
      },
      "source": [
        "import time\n",
        "import pandas as pd\n",
        "import numpy as np"
      ],
      "execution_count": 0,
      "outputs": []
    },
    {
      "cell_type": "code",
      "metadata": {
        "id": "p168RB0527KW",
        "colab_type": "code",
        "colab": {}
      },
      "source": [
        "with open('books_published_last_two_years.txt') as f:\n",
        "    recent_books = f.read().split('\\n')\n",
        "    \n",
        "with open('all_coding_books.txt') as f:\n",
        "    coding_books = f.read().split('\\n')"
      ],
      "execution_count": 0,
      "outputs": []
    },
    {
      "cell_type": "code",
      "metadata": {
        "id": "stCcsYVW27Kb",
        "colab_type": "code",
        "colab": {},
        "outputId": "da4f0f14-d2d3-4226-8be3-fefb1a1b5a8f"
      },
      "source": [
        "start = time.time()\n",
        "recent_coding_books = []\n",
        "\n",
        "for book in recent_books:\n",
        "    if book in coding_books:\n",
        "        recent_coding_books.append(book)\n",
        "\n",
        "print(len(recent_coding_books))\n",
        "print('Duration: {} seconds'.format(time.time() - start))"
      ],
      "execution_count": 0,
      "outputs": [
        {
          "output_type": "stream",
          "text": [
            "96\n",
            "Duration: 15.872233390808105 seconds\n"
          ],
          "name": "stdout"
        }
      ]
    },
    {
      "cell_type": "markdown",
      "metadata": {
        "id": "myWLFuSr27Kg",
        "colab_type": "text"
      },
      "source": [
        "### Tip #1: Use vector operations over loops when possible\n",
        "\n",
        "Use numpy's `intersect1d` method to get the intersection of the `recent_books` and `coding_books` arrays."
      ]
    },
    {
      "cell_type": "code",
      "metadata": {
        "id": "uVSZP_Ma27Kh",
        "colab_type": "code",
        "colab": {},
        "outputId": "b50ca4e0-1931-4799-d9e3-2a0e3dd50b3d"
      },
      "source": [
        "start = time.time()\n",
        "recent_coding_books = np.intersect1d(recent_books, coding_books)\n",
        "print(len(recent_coding_books))\n",
        "print('Duration: {} seconds'.format(time.time() - start))"
      ],
      "execution_count": 0,
      "outputs": [
        {
          "output_type": "stream",
          "text": [
            "96\n",
            "Duration: 0.031774282455444336 seconds\n"
          ],
          "name": "stdout"
        }
      ]
    },
    {
      "cell_type": "markdown",
      "metadata": {
        "id": "HX8R2qca27Km",
        "colab_type": "text"
      },
      "source": [
        "### Tip #2: Know your data structures and which methods are faster\n",
        "Use the set's `intersection` method to get the common elements in `recent_books` and `coding_books`."
      ]
    },
    {
      "cell_type": "code",
      "metadata": {
        "id": "EBC-3RJf27Kn",
        "colab_type": "code",
        "colab": {},
        "outputId": "56c95088-1e18-4c1b-80b5-4d71fa9d0c7e"
      },
      "source": [
        "start = time.time()\n",
        "recent_coding_books = set(recent_books).intersection(coding_books)\n",
        "print(len(recent_coding_books))\n",
        "print('Duration: {} seconds'.format(time.time() - start))"
      ],
      "execution_count": 0,
      "outputs": [
        {
          "output_type": "stream",
          "text": [
            "96\n",
            "Duration: 0.0070879459381103516 seconds\n"
          ],
          "name": "stdout"
        }
      ]
    },
    {
      "cell_type": "markdown",
      "metadata": {
        "id": "26iwHd6Q27Kr",
        "colab_type": "text"
      },
      "source": [
        "### Looks like using sets to compute the intersection is indeed most efficient in this case!"
      ]
    },
    {
      "cell_type": "code",
      "metadata": {
        "id": "8snZP_IB27Ks",
        "colab_type": "code",
        "colab": {}
      },
      "source": [
        ""
      ],
      "execution_count": 0,
      "outputs": []
    }
  ]
}