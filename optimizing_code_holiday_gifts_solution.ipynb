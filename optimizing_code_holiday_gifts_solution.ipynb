{
  "nbformat": 4,
  "nbformat_minor": 0,
  "metadata": {
    "kernelspec": {
      "display_name": "Python 3",
      "language": "python",
      "name": "python3"
    },
    "language_info": {
      "codemirror_mode": {
        "name": "ipython",
        "version": 3
      },
      "file_extension": ".py",
      "mimetype": "text/x-python",
      "name": "python",
      "nbconvert_exporter": "python",
      "pygments_lexer": "ipython3",
      "version": "3.6.3"
    },
    "colab": {
      "name": "optimizing_code_holiday_gifts_solution.ipynb",
      "provenance": [],
      "include_colab_link": true
    }
  },
  "cells": [
    {
      "cell_type": "markdown",
      "metadata": {
        "id": "view-in-github",
        "colab_type": "text"
      },
      "source": [
        "<a href=\"https://colab.research.google.com/github/vkaushik189/udacity_ml_nanodegree_sol/blob/master/optimizing_code_holiday_gifts_solution.ipynb\" target=\"_parent\"><img src=\"https://colab.research.google.com/assets/colab-badge.svg\" alt=\"Open In Colab\"/></a>"
      ]
    },
    {
      "cell_type": "markdown",
      "metadata": {
        "id": "wXXZ0fWij2-K",
        "colab_type": "text"
      },
      "source": [
        "# Optimizing Code: Holiday Gifts\n",
        "In the last example, you learned that using vectorized operations and more efficient data structures can optimize your code. Let's use these tips for one more example.\n",
        "\n",
        "Say your online gift store has one million users that each listed a gift on a wish list. You have the prices for each of these gifts stored in `gift_costs.txt`. For the holidays, you're going to give each customer their wish list gift for free if it is under 25 dollars. Now, you want to calculate the total cost of all gifts under 25 dollars to see how much you'd spend on free gifts. Here's one way you could've done it."
      ]
    },
    {
      "cell_type": "code",
      "metadata": {
        "id": "6nZ5vUt_j2-L",
        "colab_type": "code",
        "colab": {}
      },
      "source": [
        "import time\n",
        "import numpy as np"
      ],
      "execution_count": 0,
      "outputs": []
    },
    {
      "cell_type": "code",
      "metadata": {
        "id": "RA4tEr-1j2-R",
        "colab_type": "code",
        "colab": {}
      },
      "source": [
        "with open('gift_costs.txt') as f:\n",
        "    gift_costs = f.read().split('\\n')\n",
        "    \n",
        "gift_costs = np.array(gift_costs).astype(int)  # convert string to int"
      ],
      "execution_count": 0,
      "outputs": []
    },
    {
      "cell_type": "code",
      "metadata": {
        "id": "inQLDbO-j2-U",
        "colab_type": "code",
        "colab": {},
        "outputId": "22698072-2df6-4196-8957-5fcc1025a301"
      },
      "source": [
        "start = time.time()\n",
        "\n",
        "total_price = 0\n",
        "for cost in gift_costs:\n",
        "    if cost < 25:\n",
        "        total_price += cost * 1.08  # add cost after tax\n",
        "\n",
        "print(total_price)\n",
        "print('Duration: {} seconds'.format(time.time() - start))"
      ],
      "execution_count": 0,
      "outputs": [
        {
          "output_type": "stream",
          "text": [
            "32403404.16\n",
            "Duration: 5.570346832275391 seconds\n"
          ],
          "name": "stdout"
        }
      ]
    },
    {
      "cell_type": "markdown",
      "metadata": {
        "id": "ynCpvoTCj2-Z",
        "colab_type": "text"
      },
      "source": [
        "Here you iterate through each cost in the list, and check if it's less than 25. If so, you add the cost to the total price after tax. This works, but there is a much faster way to do this. Can you refactor this to run under half a second?"
      ]
    },
    {
      "cell_type": "markdown",
      "metadata": {
        "id": "h9VEjprPj2-a",
        "colab_type": "text"
      },
      "source": [
        "## Refactor Code\n",
        "**Hint:** Using numpy makes it very easy to select all the elements in an array that meet a certain condition, and then perform operations on them together all at once. You can them find the sum of what those values end up being."
      ]
    },
    {
      "cell_type": "code",
      "metadata": {
        "id": "hlMXdxBJj2-b",
        "colab_type": "code",
        "colab": {},
        "outputId": "8b69621a-282a-4971-9024-46ccc60b7a70"
      },
      "source": [
        "start = time.time()\n",
        "\n",
        "total_price = (gift_costs[gift_costs < 25]).sum() * 1.08\n",
        "print(total_price)\n",
        "\n",
        "print('Duration: {} seconds'.format(time.time() - start))"
      ],
      "execution_count": 0,
      "outputs": [
        {
          "output_type": "stream",
          "text": [
            "32403404.16\n",
            "Duration: 0.11853337287902832 seconds\n"
          ],
          "name": "stdout"
        }
      ]
    },
    {
      "cell_type": "code",
      "metadata": {
        "id": "56mH6UJQj2-f",
        "colab_type": "code",
        "colab": {}
      },
      "source": [
        ""
      ],
      "execution_count": 0,
      "outputs": []
    }
  ]
}